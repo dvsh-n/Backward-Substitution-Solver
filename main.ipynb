{
 "cells": [
  {
   "cell_type": "code",
   "execution_count": 20,
   "metadata": {},
   "outputs": [
    {
     "name": "stdout",
     "output_type": "stream",
     "text": [
      "U: \n",
      "[[-1.68120004 -2.58044872 -0.85281116  0.59244566]\n",
      " [ 0.          0.60945601  0.54485546 -1.01144273]\n",
      " [ 0.          0.          1.41607846  0.25245048]\n",
      " [ 0.          0.          0.          0.04458358]] \n",
      "\n",
      "b: \n",
      "[[-3.51532468e-01]\n",
      " [ 5.83763075e-01]\n",
      " [-1.58834322e+00]\n",
      " [-7.86885912e-04]] \n",
      "\n",
      "x: \n",
      "[[-2.18976829]\n",
      " [ 1.92849641]\n",
      " [-1.11850268]\n",
      " [-0.01764968]] \n",
      "\n",
      "Distance:  2.5438405243138006e-16\n"
     ]
    }
   ],
   "source": [
    "import numpy as np\n",
    "\n",
    "n = 4\n",
    "U = np.triu(np.random.randn(n,n), 0)\n",
    "b = np.random.randn(n,1)\n",
    "\n",
    "def BS_solve(U, b):\n",
    "    temp = np.copy(b)\n",
    "    x = np.zeros((len(U),1))\n",
    "    for i in reversed(range(len(U))): # 3 2 1 0\n",
    "        for j in reversed(range(i,len(U))):\n",
    "            if (j > i):\n",
    "                temp[i] -= U[i,j] * x[j]\n",
    "            else:\n",
    "                x[i] = temp[i]/U[i,j]\n",
    "    return x\n",
    "\n",
    "print(\"U: \")\n",
    "print(U, '\\n')\n",
    "print(\"b: \")\n",
    "print(b, '\\n')\n",
    "x = BS_solve(U, b)\n",
    "print(\"x: \")\n",
    "print(x, '\\n')\n",
    "print(\"Distance: \", np.linalg.norm(b-np.dot(U,x)))\n"
   ]
  }
 ],
 "metadata": {
  "language_info": {
   "name": "python"
  }
 },
 "nbformat": 4,
 "nbformat_minor": 2
}
