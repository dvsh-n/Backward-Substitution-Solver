{
 "cells": [
  {
   "cell_type": "code",
   "execution_count": 7,
   "metadata": {},
   "outputs": [
    {
     "name": "stdout",
     "output_type": "stream",
     "text": [
      "[3]\n"
     ]
    }
   ],
   "source": [
    "import numpy as np\n",
    "\n",
    "n = 4\n",
    "U = np.triu(np.random.randn(n,n), 0)\n",
    "b = np.random.randn(n,1)\n",
    "\n",
    "def BS_solve(U, b):\n",
    "    x = np.zeros((len(U),1))\n",
    "    for i in reversed(range(len(U))): #3 2 1 0\n",
    "        for j in reversed(range(i,len(U))):\n",
    "            if (j > i):\n",
    "                b[i] -= U[i,j] * x[j]\n",
    "            else:\n",
    "                x[i] = b[i]/U[i,j]\n",
    "    return x\n",
    "\n"
   ]
  }
 ],
 "metadata": {
  "language_info": {
   "name": "python"
  }
 },
 "nbformat": 4,
 "nbformat_minor": 2
}
